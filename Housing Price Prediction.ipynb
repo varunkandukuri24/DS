{
 "cells": [
  {
   "cell_type": "code",
   "execution_count": 272,
   "metadata": {},
   "outputs": [
    {
     "data": {
      "text/html": [
       "<div>\n",
       "<style scoped>\n",
       "    .dataframe tbody tr th:only-of-type {\n",
       "        vertical-align: middle;\n",
       "    }\n",
       "\n",
       "    .dataframe tbody tr th {\n",
       "        vertical-align: top;\n",
       "    }\n",
       "\n",
       "    .dataframe thead th {\n",
       "        text-align: right;\n",
       "    }\n",
       "</style>\n",
       "<table border=\"1\" class=\"dataframe\">\n",
       "  <thead>\n",
       "    <tr style=\"text-align: right;\">\n",
       "      <th></th>\n",
       "      <th>Id</th>\n",
       "      <th>MSSubClass</th>\n",
       "      <th>LotFrontage</th>\n",
       "      <th>LotArea</th>\n",
       "      <th>OverallQual</th>\n",
       "      <th>OverallCond</th>\n",
       "      <th>YearBuilt</th>\n",
       "      <th>YearRemodAdd</th>\n",
       "      <th>MasVnrArea</th>\n",
       "      <th>BsmtFinSF1</th>\n",
       "      <th>...</th>\n",
       "      <th>WoodDeckSF</th>\n",
       "      <th>OpenPorchSF</th>\n",
       "      <th>EnclosedPorch</th>\n",
       "      <th>3SsnPorch</th>\n",
       "      <th>ScreenPorch</th>\n",
       "      <th>PoolArea</th>\n",
       "      <th>MiscVal</th>\n",
       "      <th>MoSold</th>\n",
       "      <th>YrSold</th>\n",
       "      <th>SalePrice</th>\n",
       "    </tr>\n",
       "  </thead>\n",
       "  <tbody>\n",
       "    <tr>\n",
       "      <th>count</th>\n",
       "      <td>1460.000000</td>\n",
       "      <td>1460.000000</td>\n",
       "      <td>1201.000000</td>\n",
       "      <td>1460.000000</td>\n",
       "      <td>1460.000000</td>\n",
       "      <td>1460.000000</td>\n",
       "      <td>1460.000000</td>\n",
       "      <td>1460.000000</td>\n",
       "      <td>1452.000000</td>\n",
       "      <td>1460.000000</td>\n",
       "      <td>...</td>\n",
       "      <td>1460.000000</td>\n",
       "      <td>1460.000000</td>\n",
       "      <td>1460.000000</td>\n",
       "      <td>1460.000000</td>\n",
       "      <td>1460.000000</td>\n",
       "      <td>1460.000000</td>\n",
       "      <td>1460.000000</td>\n",
       "      <td>1460.000000</td>\n",
       "      <td>1460.000000</td>\n",
       "      <td>1460.000000</td>\n",
       "    </tr>\n",
       "    <tr>\n",
       "      <th>mean</th>\n",
       "      <td>730.500000</td>\n",
       "      <td>56.897260</td>\n",
       "      <td>70.049958</td>\n",
       "      <td>10516.828082</td>\n",
       "      <td>6.099315</td>\n",
       "      <td>5.575342</td>\n",
       "      <td>1971.267808</td>\n",
       "      <td>1984.865753</td>\n",
       "      <td>103.685262</td>\n",
       "      <td>443.639726</td>\n",
       "      <td>...</td>\n",
       "      <td>94.244521</td>\n",
       "      <td>46.660274</td>\n",
       "      <td>21.954110</td>\n",
       "      <td>3.409589</td>\n",
       "      <td>15.060959</td>\n",
       "      <td>2.758904</td>\n",
       "      <td>43.489041</td>\n",
       "      <td>6.321918</td>\n",
       "      <td>2007.815753</td>\n",
       "      <td>180921.195890</td>\n",
       "    </tr>\n",
       "    <tr>\n",
       "      <th>std</th>\n",
       "      <td>421.610009</td>\n",
       "      <td>42.300571</td>\n",
       "      <td>24.284752</td>\n",
       "      <td>9981.264932</td>\n",
       "      <td>1.382997</td>\n",
       "      <td>1.112799</td>\n",
       "      <td>30.202904</td>\n",
       "      <td>20.645407</td>\n",
       "      <td>181.066207</td>\n",
       "      <td>456.098091</td>\n",
       "      <td>...</td>\n",
       "      <td>125.338794</td>\n",
       "      <td>66.256028</td>\n",
       "      <td>61.119149</td>\n",
       "      <td>29.317331</td>\n",
       "      <td>55.757415</td>\n",
       "      <td>40.177307</td>\n",
       "      <td>496.123024</td>\n",
       "      <td>2.703626</td>\n",
       "      <td>1.328095</td>\n",
       "      <td>79442.502883</td>\n",
       "    </tr>\n",
       "    <tr>\n",
       "      <th>min</th>\n",
       "      <td>1.000000</td>\n",
       "      <td>20.000000</td>\n",
       "      <td>21.000000</td>\n",
       "      <td>1300.000000</td>\n",
       "      <td>1.000000</td>\n",
       "      <td>1.000000</td>\n",
       "      <td>1872.000000</td>\n",
       "      <td>1950.000000</td>\n",
       "      <td>0.000000</td>\n",
       "      <td>0.000000</td>\n",
       "      <td>...</td>\n",
       "      <td>0.000000</td>\n",
       "      <td>0.000000</td>\n",
       "      <td>0.000000</td>\n",
       "      <td>0.000000</td>\n",
       "      <td>0.000000</td>\n",
       "      <td>0.000000</td>\n",
       "      <td>0.000000</td>\n",
       "      <td>1.000000</td>\n",
       "      <td>2006.000000</td>\n",
       "      <td>34900.000000</td>\n",
       "    </tr>\n",
       "    <tr>\n",
       "      <th>25%</th>\n",
       "      <td>365.750000</td>\n",
       "      <td>20.000000</td>\n",
       "      <td>59.000000</td>\n",
       "      <td>7553.500000</td>\n",
       "      <td>5.000000</td>\n",
       "      <td>5.000000</td>\n",
       "      <td>1954.000000</td>\n",
       "      <td>1967.000000</td>\n",
       "      <td>0.000000</td>\n",
       "      <td>0.000000</td>\n",
       "      <td>...</td>\n",
       "      <td>0.000000</td>\n",
       "      <td>0.000000</td>\n",
       "      <td>0.000000</td>\n",
       "      <td>0.000000</td>\n",
       "      <td>0.000000</td>\n",
       "      <td>0.000000</td>\n",
       "      <td>0.000000</td>\n",
       "      <td>5.000000</td>\n",
       "      <td>2007.000000</td>\n",
       "      <td>129975.000000</td>\n",
       "    </tr>\n",
       "    <tr>\n",
       "      <th>50%</th>\n",
       "      <td>730.500000</td>\n",
       "      <td>50.000000</td>\n",
       "      <td>69.000000</td>\n",
       "      <td>9478.500000</td>\n",
       "      <td>6.000000</td>\n",
       "      <td>5.000000</td>\n",
       "      <td>1973.000000</td>\n",
       "      <td>1994.000000</td>\n",
       "      <td>0.000000</td>\n",
       "      <td>383.500000</td>\n",
       "      <td>...</td>\n",
       "      <td>0.000000</td>\n",
       "      <td>25.000000</td>\n",
       "      <td>0.000000</td>\n",
       "      <td>0.000000</td>\n",
       "      <td>0.000000</td>\n",
       "      <td>0.000000</td>\n",
       "      <td>0.000000</td>\n",
       "      <td>6.000000</td>\n",
       "      <td>2008.000000</td>\n",
       "      <td>163000.000000</td>\n",
       "    </tr>\n",
       "    <tr>\n",
       "      <th>75%</th>\n",
       "      <td>1095.250000</td>\n",
       "      <td>70.000000</td>\n",
       "      <td>80.000000</td>\n",
       "      <td>11601.500000</td>\n",
       "      <td>7.000000</td>\n",
       "      <td>6.000000</td>\n",
       "      <td>2000.000000</td>\n",
       "      <td>2004.000000</td>\n",
       "      <td>166.000000</td>\n",
       "      <td>712.250000</td>\n",
       "      <td>...</td>\n",
       "      <td>168.000000</td>\n",
       "      <td>68.000000</td>\n",
       "      <td>0.000000</td>\n",
       "      <td>0.000000</td>\n",
       "      <td>0.000000</td>\n",
       "      <td>0.000000</td>\n",
       "      <td>0.000000</td>\n",
       "      <td>8.000000</td>\n",
       "      <td>2009.000000</td>\n",
       "      <td>214000.000000</td>\n",
       "    </tr>\n",
       "    <tr>\n",
       "      <th>max</th>\n",
       "      <td>1460.000000</td>\n",
       "      <td>190.000000</td>\n",
       "      <td>313.000000</td>\n",
       "      <td>215245.000000</td>\n",
       "      <td>10.000000</td>\n",
       "      <td>9.000000</td>\n",
       "      <td>2010.000000</td>\n",
       "      <td>2010.000000</td>\n",
       "      <td>1600.000000</td>\n",
       "      <td>5644.000000</td>\n",
       "      <td>...</td>\n",
       "      <td>857.000000</td>\n",
       "      <td>547.000000</td>\n",
       "      <td>552.000000</td>\n",
       "      <td>508.000000</td>\n",
       "      <td>480.000000</td>\n",
       "      <td>738.000000</td>\n",
       "      <td>15500.000000</td>\n",
       "      <td>12.000000</td>\n",
       "      <td>2010.000000</td>\n",
       "      <td>755000.000000</td>\n",
       "    </tr>\n",
       "  </tbody>\n",
       "</table>\n",
       "<p>8 rows × 38 columns</p>\n",
       "</div>"
      ],
      "text/plain": [
       "                Id   MSSubClass  LotFrontage        LotArea  OverallQual  \\\n",
       "count  1460.000000  1460.000000  1201.000000    1460.000000  1460.000000   \n",
       "mean    730.500000    56.897260    70.049958   10516.828082     6.099315   \n",
       "std     421.610009    42.300571    24.284752    9981.264932     1.382997   \n",
       "min       1.000000    20.000000    21.000000    1300.000000     1.000000   \n",
       "25%     365.750000    20.000000    59.000000    7553.500000     5.000000   \n",
       "50%     730.500000    50.000000    69.000000    9478.500000     6.000000   \n",
       "75%    1095.250000    70.000000    80.000000   11601.500000     7.000000   \n",
       "max    1460.000000   190.000000   313.000000  215245.000000    10.000000   \n",
       "\n",
       "       OverallCond    YearBuilt  YearRemodAdd   MasVnrArea   BsmtFinSF1  \\\n",
       "count  1460.000000  1460.000000   1460.000000  1452.000000  1460.000000   \n",
       "mean      5.575342  1971.267808   1984.865753   103.685262   443.639726   \n",
       "std       1.112799    30.202904     20.645407   181.066207   456.098091   \n",
       "min       1.000000  1872.000000   1950.000000     0.000000     0.000000   \n",
       "25%       5.000000  1954.000000   1967.000000     0.000000     0.000000   \n",
       "50%       5.000000  1973.000000   1994.000000     0.000000   383.500000   \n",
       "75%       6.000000  2000.000000   2004.000000   166.000000   712.250000   \n",
       "max       9.000000  2010.000000   2010.000000  1600.000000  5644.000000   \n",
       "\n",
       "           ...         WoodDeckSF  OpenPorchSF  EnclosedPorch    3SsnPorch  \\\n",
       "count      ...        1460.000000  1460.000000    1460.000000  1460.000000   \n",
       "mean       ...          94.244521    46.660274      21.954110     3.409589   \n",
       "std        ...         125.338794    66.256028      61.119149    29.317331   \n",
       "min        ...           0.000000     0.000000       0.000000     0.000000   \n",
       "25%        ...           0.000000     0.000000       0.000000     0.000000   \n",
       "50%        ...           0.000000    25.000000       0.000000     0.000000   \n",
       "75%        ...         168.000000    68.000000       0.000000     0.000000   \n",
       "max        ...         857.000000   547.000000     552.000000   508.000000   \n",
       "\n",
       "       ScreenPorch     PoolArea       MiscVal       MoSold       YrSold  \\\n",
       "count  1460.000000  1460.000000   1460.000000  1460.000000  1460.000000   \n",
       "mean     15.060959     2.758904     43.489041     6.321918  2007.815753   \n",
       "std      55.757415    40.177307    496.123024     2.703626     1.328095   \n",
       "min       0.000000     0.000000      0.000000     1.000000  2006.000000   \n",
       "25%       0.000000     0.000000      0.000000     5.000000  2007.000000   \n",
       "50%       0.000000     0.000000      0.000000     6.000000  2008.000000   \n",
       "75%       0.000000     0.000000      0.000000     8.000000  2009.000000   \n",
       "max     480.000000   738.000000  15500.000000    12.000000  2010.000000   \n",
       "\n",
       "           SalePrice  \n",
       "count    1460.000000  \n",
       "mean   180921.195890  \n",
       "std     79442.502883  \n",
       "min     34900.000000  \n",
       "25%    129975.000000  \n",
       "50%    163000.000000  \n",
       "75%    214000.000000  \n",
       "max    755000.000000  \n",
       "\n",
       "[8 rows x 38 columns]"
      ]
     },
     "execution_count": 272,
     "metadata": {},
     "output_type": "execute_result"
    }
   ],
   "source": [
    "import pandas as pd\n",
    "import numpy as np\n",
    "\n",
    "\"\"\"If our data is present in csv format, we use the read_csv() function of the pandas library to read it into a variable.\n",
    "This variable will hold what is called a pandas DataFrame\"\"\"\n",
    "dataset = pd.read_csv(\"house_train.csv\")\n",
    "\n",
    "dataset.describe() #The describe funtion gives us information on quartiles, measures of center, \n",
    "                   #and deviation for all records in each attribute.\n"
   ]
  },
  {
   "cell_type": "code",
   "execution_count": 273,
   "metadata": {},
   "outputs": [
    {
     "data": {
      "text/plain": [
       "Index(['Id', 'MSSubClass', 'MSZoning', 'LotFrontage', 'LotArea', 'Street',\n",
       "       'Alley', 'LotShape', 'LandContour', 'Utilities', 'LotConfig',\n",
       "       'LandSlope', 'Neighborhood', 'Condition1', 'Condition2', 'BldgType',\n",
       "       'HouseStyle', 'OverallQual', 'OverallCond', 'YearBuilt', 'YearRemodAdd',\n",
       "       'RoofStyle', 'RoofMatl', 'Exterior1st', 'Exterior2nd', 'MasVnrType',\n",
       "       'MasVnrArea', 'ExterQual', 'ExterCond', 'Foundation', 'BsmtQual',\n",
       "       'BsmtCond', 'BsmtExposure', 'BsmtFinType1', 'BsmtFinSF1',\n",
       "       'BsmtFinType2', 'BsmtFinSF2', 'BsmtUnfSF', 'TotalBsmtSF', 'Heating',\n",
       "       'HeatingQC', 'CentralAir', 'Electrical', '1stFlrSF', '2ndFlrSF',\n",
       "       'LowQualFinSF', 'GrLivArea', 'BsmtFullBath', 'BsmtHalfBath', 'FullBath',\n",
       "       'HalfBath', 'BedroomAbvGr', 'KitchenAbvGr', 'KitchenQual',\n",
       "       'TotRmsAbvGrd', 'Functional', 'Fireplaces', 'FireplaceQu', 'GarageType',\n",
       "       'GarageYrBlt', 'GarageFinish', 'GarageCars', 'GarageArea', 'GarageQual',\n",
       "       'GarageCond', 'PavedDrive', 'WoodDeckSF', 'OpenPorchSF',\n",
       "       'EnclosedPorch', '3SsnPorch', 'ScreenPorch', 'PoolArea', 'PoolQC',\n",
       "       'Fence', 'MiscFeature', 'MiscVal', 'MoSold', 'YrSold', 'SaleType',\n",
       "       'SaleCondition', 'SalePrice'],\n",
       "      dtype='object')"
      ]
     },
     "execution_count": 273,
     "metadata": {},
     "output_type": "execute_result"
    }
   ],
   "source": [
    "dataset.columns #The columns property of a DataFrame is used to check all the attributes present in our DataFrame(Not visible using describe() function)"
   ]
  },
  {
   "cell_type": "markdown",
   "metadata": {},
   "source": [
    "**How do we extract individual columns for our use?**\n",
    "\n",
    "We either use the dot notation to extract one particular column, like so:-\n",
    "\n",
    "SalePrice = dataset.Saleprice\n",
    "\n",
    "(or)\n",
    "\n",
    "We can extract multiple columns and store them in a new DataFrame using a list, like so:-\n",
    "\n",
    "col_of_interest = [SalePrice,PoolQC]\n",
    "\n",
    "New_DF = dataset[col_of_interest]     <------ Notice the distinction from extracting a single attribute"
   ]
  },
  {
   "cell_type": "code",
   "execution_count": 274,
   "metadata": {},
   "outputs": [
    {
     "data": {
      "text/plain": [
       "0    208500\n",
       "1    181500\n",
       "2    223500\n",
       "3    140000\n",
       "4    250000\n",
       "Name: SalePrice, dtype: int64"
      ]
     },
     "execution_count": 274,
     "metadata": {},
     "output_type": "execute_result"
    }
   ],
   "source": [
    "SalePrice = dataset.SalePrice\n",
    "SalePrice.head() #Prints the first five records of our DataFrame"
   ]
  },
  {
   "cell_type": "code",
   "execution_count": 275,
   "metadata": {},
   "outputs": [
    {
     "data": {
      "text/html": [
       "<div>\n",
       "<style scoped>\n",
       "    .dataframe tbody tr th:only-of-type {\n",
       "        vertical-align: middle;\n",
       "    }\n",
       "\n",
       "    .dataframe tbody tr th {\n",
       "        vertical-align: top;\n",
       "    }\n",
       "\n",
       "    .dataframe thead th {\n",
       "        text-align: right;\n",
       "    }\n",
       "</style>\n",
       "<table border=\"1\" class=\"dataframe\">\n",
       "  <thead>\n",
       "    <tr style=\"text-align: right;\">\n",
       "      <th></th>\n",
       "      <th>1stFlrSF</th>\n",
       "      <th>2ndFlrSF</th>\n",
       "    </tr>\n",
       "  </thead>\n",
       "  <tbody>\n",
       "    <tr>\n",
       "      <th>count</th>\n",
       "      <td>1460.000000</td>\n",
       "      <td>1460.000000</td>\n",
       "    </tr>\n",
       "    <tr>\n",
       "      <th>mean</th>\n",
       "      <td>1162.626712</td>\n",
       "      <td>346.992466</td>\n",
       "    </tr>\n",
       "    <tr>\n",
       "      <th>std</th>\n",
       "      <td>386.587738</td>\n",
       "      <td>436.528436</td>\n",
       "    </tr>\n",
       "    <tr>\n",
       "      <th>min</th>\n",
       "      <td>334.000000</td>\n",
       "      <td>0.000000</td>\n",
       "    </tr>\n",
       "    <tr>\n",
       "      <th>25%</th>\n",
       "      <td>882.000000</td>\n",
       "      <td>0.000000</td>\n",
       "    </tr>\n",
       "    <tr>\n",
       "      <th>50%</th>\n",
       "      <td>1087.000000</td>\n",
       "      <td>0.000000</td>\n",
       "    </tr>\n",
       "    <tr>\n",
       "      <th>75%</th>\n",
       "      <td>1391.250000</td>\n",
       "      <td>728.000000</td>\n",
       "    </tr>\n",
       "    <tr>\n",
       "      <th>max</th>\n",
       "      <td>4692.000000</td>\n",
       "      <td>2065.000000</td>\n",
       "    </tr>\n",
       "  </tbody>\n",
       "</table>\n",
       "</div>"
      ],
      "text/plain": [
       "          1stFlrSF     2ndFlrSF\n",
       "count  1460.000000  1460.000000\n",
       "mean   1162.626712   346.992466\n",
       "std     386.587738   436.528436\n",
       "min     334.000000     0.000000\n",
       "25%     882.000000     0.000000\n",
       "50%    1087.000000     0.000000\n",
       "75%    1391.250000   728.000000\n",
       "max    4692.000000  2065.000000"
      ]
     },
     "execution_count": 275,
     "metadata": {},
     "output_type": "execute_result"
    }
   ],
   "source": [
    "col_of_interest = ['1stFlrSF','2ndFlrSF'] #Don't forget single quotes around field names\n",
    "\n",
    "New_DF = dataset[col_of_interest]\n",
    "\n",
    "New_DF.describe()"
   ]
  },
  {
   "cell_type": "markdown",
   "metadata": {},
   "source": [
    "# Building a model for prediction\n",
    "\n",
    "#### We use decesion trees as a starting point. Furthermore, we will avoid using categorical variables in our predictors for now."
   ]
  },
  {
   "cell_type": "code",
   "execution_count": 276,
   "metadata": {},
   "outputs": [
    {
     "data": {
      "text/plain": [
       "count      1460.000000\n",
       "mean     180921.195890\n",
       "std       79442.502883\n",
       "min       34900.000000\n",
       "25%      129975.000000\n",
       "50%      163000.000000\n",
       "75%      214000.000000\n",
       "max      755000.000000\n",
       "Name: SalePrice, dtype: float64"
      ]
     },
     "execution_count": 276,
     "metadata": {},
     "output_type": "execute_result"
    }
   ],
   "source": [
    "y = SalePrice #We are going to use SalePrice as our Response. We name it y in adherence to convetion.\n",
    "y.describe()"
   ]
  },
  {
   "cell_type": "code",
   "execution_count": 277,
   "metadata": {},
   "outputs": [
    {
     "data": {
      "text/html": [
       "<div>\n",
       "<style scoped>\n",
       "    .dataframe tbody tr th:only-of-type {\n",
       "        vertical-align: middle;\n",
       "    }\n",
       "\n",
       "    .dataframe tbody tr th {\n",
       "        vertical-align: top;\n",
       "    }\n",
       "\n",
       "    .dataframe thead th {\n",
       "        text-align: right;\n",
       "    }\n",
       "</style>\n",
       "<table border=\"1\" class=\"dataframe\">\n",
       "  <thead>\n",
       "    <tr style=\"text-align: right;\">\n",
       "      <th></th>\n",
       "      <th>LotArea</th>\n",
       "      <th>YearBuilt</th>\n",
       "      <th>1stFlrSF</th>\n",
       "      <th>2ndFlrSF</th>\n",
       "      <th>FullBath</th>\n",
       "      <th>BedroomAbvGr</th>\n",
       "      <th>TotRmsAbvGrd</th>\n",
       "    </tr>\n",
       "  </thead>\n",
       "  <tbody>\n",
       "    <tr>\n",
       "      <th>count</th>\n",
       "      <td>1460.000000</td>\n",
       "      <td>1460.000000</td>\n",
       "      <td>1460.000000</td>\n",
       "      <td>1460.000000</td>\n",
       "      <td>1460.000000</td>\n",
       "      <td>1460.000000</td>\n",
       "      <td>1460.000000</td>\n",
       "    </tr>\n",
       "    <tr>\n",
       "      <th>mean</th>\n",
       "      <td>10516.828082</td>\n",
       "      <td>1971.267808</td>\n",
       "      <td>1162.626712</td>\n",
       "      <td>346.992466</td>\n",
       "      <td>1.565068</td>\n",
       "      <td>2.866438</td>\n",
       "      <td>6.517808</td>\n",
       "    </tr>\n",
       "    <tr>\n",
       "      <th>std</th>\n",
       "      <td>9981.264932</td>\n",
       "      <td>30.202904</td>\n",
       "      <td>386.587738</td>\n",
       "      <td>436.528436</td>\n",
       "      <td>0.550916</td>\n",
       "      <td>0.815778</td>\n",
       "      <td>1.625393</td>\n",
       "    </tr>\n",
       "    <tr>\n",
       "      <th>min</th>\n",
       "      <td>1300.000000</td>\n",
       "      <td>1872.000000</td>\n",
       "      <td>334.000000</td>\n",
       "      <td>0.000000</td>\n",
       "      <td>0.000000</td>\n",
       "      <td>0.000000</td>\n",
       "      <td>2.000000</td>\n",
       "    </tr>\n",
       "    <tr>\n",
       "      <th>25%</th>\n",
       "      <td>7553.500000</td>\n",
       "      <td>1954.000000</td>\n",
       "      <td>882.000000</td>\n",
       "      <td>0.000000</td>\n",
       "      <td>1.000000</td>\n",
       "      <td>2.000000</td>\n",
       "      <td>5.000000</td>\n",
       "    </tr>\n",
       "    <tr>\n",
       "      <th>50%</th>\n",
       "      <td>9478.500000</td>\n",
       "      <td>1973.000000</td>\n",
       "      <td>1087.000000</td>\n",
       "      <td>0.000000</td>\n",
       "      <td>2.000000</td>\n",
       "      <td>3.000000</td>\n",
       "      <td>6.000000</td>\n",
       "    </tr>\n",
       "    <tr>\n",
       "      <th>75%</th>\n",
       "      <td>11601.500000</td>\n",
       "      <td>2000.000000</td>\n",
       "      <td>1391.250000</td>\n",
       "      <td>728.000000</td>\n",
       "      <td>2.000000</td>\n",
       "      <td>3.000000</td>\n",
       "      <td>7.000000</td>\n",
       "    </tr>\n",
       "    <tr>\n",
       "      <th>max</th>\n",
       "      <td>215245.000000</td>\n",
       "      <td>2010.000000</td>\n",
       "      <td>4692.000000</td>\n",
       "      <td>2065.000000</td>\n",
       "      <td>3.000000</td>\n",
       "      <td>8.000000</td>\n",
       "      <td>14.000000</td>\n",
       "    </tr>\n",
       "  </tbody>\n",
       "</table>\n",
       "</div>"
      ],
      "text/plain": [
       "             LotArea    YearBuilt     1stFlrSF     2ndFlrSF     FullBath  \\\n",
       "count    1460.000000  1460.000000  1460.000000  1460.000000  1460.000000   \n",
       "mean    10516.828082  1971.267808  1162.626712   346.992466     1.565068   \n",
       "std      9981.264932    30.202904   386.587738   436.528436     0.550916   \n",
       "min      1300.000000  1872.000000   334.000000     0.000000     0.000000   \n",
       "25%      7553.500000  1954.000000   882.000000     0.000000     1.000000   \n",
       "50%      9478.500000  1973.000000  1087.000000     0.000000     2.000000   \n",
       "75%     11601.500000  2000.000000  1391.250000   728.000000     2.000000   \n",
       "max    215245.000000  2010.000000  4692.000000  2065.000000     3.000000   \n",
       "\n",
       "       BedroomAbvGr  TotRmsAbvGrd  \n",
       "count   1460.000000   1460.000000  \n",
       "mean       2.866438      6.517808  \n",
       "std        0.815778      1.625393  \n",
       "min        0.000000      2.000000  \n",
       "25%        2.000000      5.000000  \n",
       "50%        3.000000      6.000000  \n",
       "75%        3.000000      7.000000  \n",
       "max        8.000000     14.000000  "
      ]
     },
     "execution_count": 277,
     "metadata": {},
     "output_type": "execute_result"
    }
   ],
   "source": [
    "predictor_names = ['LotArea','YearBuilt','1stFlrSF','2ndFlrSF','FullBath','BedroomAbvGr','TotRmsAbvGrd']\n",
    "x = dataset[predictor_names] #We use x in adherence to convention\n",
    "x.describe()"
   ]
  },
  {
   "cell_type": "code",
   "execution_count": 278,
   "metadata": {},
   "outputs": [
    {
     "data": {
      "text/plain": [
       "DecisionTreeRegressor(criterion='mse', max_depth=None, max_features=None,\n",
       "           max_leaf_nodes=None, min_impurity_decrease=0.0,\n",
       "           min_impurity_split=None, min_samples_leaf=1,\n",
       "           min_samples_split=2, min_weight_fraction_leaf=0.0,\n",
       "           presort=False, random_state=None, splitter='best')"
      ]
     },
     "execution_count": 278,
     "metadata": {},
     "output_type": "execute_result"
    }
   ],
   "source": [
    "from sklearn.tree import DecisionTreeRegressor\n",
    "\n",
    "model = DecisionTreeRegressor() #We use this statement to 'define' our model\n",
    "\n",
    "model.fit(x,y) #Fitting our model\n"
   ]
  },
  {
   "cell_type": "markdown",
   "metadata": {},
   "source": [
    "**_Although it is inconsequential to predict prices on training data, we do so for the first five records just to demonstrate how\n",
    "the prediction process works(This is usually not to be done on in-smaple data)_**\n"
   ]
  },
  {
   "cell_type": "code",
   "execution_count": 279,
   "metadata": {},
   "outputs": [
    {
     "name": "stdout",
     "output_type": "stream",
     "text": [
      "The SalePrice predictions for the first five records are: [ 208500.  181500.  223500.  140000.  250000.]\n"
     ]
    }
   ],
   "source": [
    "print(\"The SalePrice predictions for the first five records are: {}\".format(model.predict(x.head())))"
   ]
  },
  {
   "cell_type": "markdown",
   "metadata": {},
   "source": [
    "# Summarizing the quality of our predictions by splitting data into validation and training subsets"
   ]
  },
  {
   "cell_type": "code",
   "execution_count": 280,
   "metadata": {},
   "outputs": [
    {
     "name": "stdout",
     "output_type": "stream",
     "text": [
      "The absolute difference between the mean of predicted values and actual values is: 32958.47123287671\n"
     ]
    }
   ],
   "source": [
    "from sklearn.model_selection import train_test_split #We use this function to split our dataset\n",
    "\n",
    "x_train, x_test, y_train, y_test = train_test_split(x,y,random_state = 0, test_size = 0.25,train_size = 0.75)\n",
    "#random_state = 0 ensures that we get the same split of attributes everytime the script runs.\n",
    "#train_size and test_size mention the percentage of data that is used in respective segments.\n",
    "\n",
    "model.fit(x_train,y_train)\n",
    "\n",
    "model_predictions = model.predict(x_test) #predicts response for the test data\n",
    "\n",
    "#Now, we evaluate the accuracy of these predictions using Mean Absolute Error as a metric.\n",
    "from sklearn.metrics import mean_absolute_error\n",
    "print(\"The absolute difference between the mean of predicted values and actual values is: {}\".format(mean_absolute_error(model_predictions,y_test)))"
   ]
  },
  {
   "cell_type": "markdown",
   "metadata": {},
   "source": [
    "The above number implies that our predictions our off by about 32,000 on average from the actual House Prices."
   ]
  },
  {
   "cell_type": "markdown",
   "metadata": {},
   "source": [
    "# How might we optimize our model?\n",
    "\n",
    "The DecisionTreeRegressor() has many parameters that allow us to modify it. We need to find the sweet-spot between underfitting and overfitting our model by altering these parameters. Namely, we alter the max_leaf_nodes parameter to control the depth of our tree "
   ]
  },
  {
   "cell_type": "code",
   "execution_count": 281,
   "metadata": {},
   "outputs": [],
   "source": [
    "#We define the following function to evaluate the MAE for different values of max_leaf_nodes\n",
    "def eval_MAE(mld,x_train,x_test,y_train,y_test):\n",
    "    model = DecisionTreeRegressor(max_leaf_nodes = mld, random_state = 0)\n",
    "    model.fit(x_train,y_train)\n",
    "    model_predictions = model.predict(x_test)\n",
    "    mae = mean_absolute_error(model_predictions,y_test) #This step is for validating our predictions.\n",
    "    print(\"The MAE for max_leaf_nodes = {} is: {}\".format(mld,mae))"
   ]
  },
  {
   "cell_type": "code",
   "execution_count": 282,
   "metadata": {},
   "outputs": [
    {
     "name": "stdout",
     "output_type": "stream",
     "text": [
      "The MAE for max_leaf_nodes = 5 is: 35190.33670788684\n",
      "The MAE for max_leaf_nodes = 36 is: 27372.959975147438\n",
      "The MAE for max_leaf_nodes = 50 is: 27825.888386265695\n",
      "The MAE for max_leaf_nodes = 100 is: 28653.10992820276\n",
      "The MAE for max_leaf_nodes = 200 is: 30281.282842731143\n",
      "The MAE for max_leaf_nodes = 300 is: 32188.860034731984\n",
      "The MAE for max_leaf_nodes = 400 is: 32235.882638711624\n",
      "The MAE for max_leaf_nodes = 500 is: 32662.00407479887\n"
     ]
    }
   ],
   "source": [
    "for mld in [5,36,50,100,200,300,400,500]:\n",
    "    eval_MAE(mld,x_train,x_test,y_train,y_test)"
   ]
  },
  {
   "cell_type": "markdown",
   "metadata": {},
   "source": [
    "**As we can notice by the results, our DecisionTreeModel can be optimized by taking max_leaf_nodes value to be equal to 36**\n",
    "\n",
    "It reduces the MAE by around 5000 from our initial model."
   ]
  },
  {
   "cell_type": "markdown",
   "metadata": {},
   "source": [
    "# Can we use a different model to be even more accurate?\n",
    "\n",
    "Yes, apparently the a RandomForestRegressor model is generally far more accurate than a decisiong tree even with default parameters. Let's see how it performs."
   ]
  },
  {
   "cell_type": "code",
   "execution_count": 283,
   "metadata": {},
   "outputs": [
    {
     "name": "stdout",
     "output_type": "stream",
     "text": [
      "The MAE using a RandomForestRegressor is: 24239.87050228311\n"
     ]
    }
   ],
   "source": [
    "from sklearn.ensemble import RandomForestRegressor\n",
    "\n",
    "model_2 = RandomForestRegressor()\n",
    "model_2.fit(x_train,y_train)\n",
    "model_2_predictions = model_2.predict(x_test)\n",
    "print(\"The MAE using a RandomForestRegressor is: {}\".format(mean_absolute_error(model_2_predictions,y_test)))"
   ]
  },
  {
   "cell_type": "markdown",
   "metadata": {},
   "source": [
    "The above MAE is slightly more acurate than a Decision Tree with max_leaf_nodes = 36.\n",
    "\n",
    "Further modification of the parameters can make this model even more accurate."
   ]
  },
  {
   "cell_type": "markdown",
   "metadata": {},
   "source": [
    "# Handling Missing Values\n",
    "\n",
    "**So far we have trained our model based on only a few columns of interest, where none of the values are missing.\n",
    "From this moment forward we use all the attributes except for our response and categorical data types. To handle missing values, we make use of three techniques:-**\n",
    "\n",
    "- Dropping columns\n",
    "- Imputation \n",
    "- Imputation with extension"
   ]
  },
  {
   "cell_type": "code",
   "execution_count": 284,
   "metadata": {},
   "outputs": [
    {
     "name": "stdout",
     "output_type": "stream",
     "text": [
      "False\n"
     ]
    }
   ],
   "source": [
    "#We re-initilaize our response and predictor variables to demonstrate the working.\n",
    "y = dataset.SalePrice\n",
    "\n",
    "\"\"\"To make sure that none of the records in our response have null values, we use isnull().any(). \n",
    "False would mean all records have values.\n",
    "We do tis for the response since a significant portion of it is used for fitting the model\"\"\"\n",
    "print(y.isnull().any())\n",
    "\n",
    "#In our next step, we select all other attributes(except ID and categorical data types) as predictors\n",
    "drop_these_columns = ['SalePrice','Id']\n",
    "x = dataset.drop(drop_these_columns, axis = 1) \n",
    "#axis = 1 is used to drop columns that are specified by the first parameter\n",
    "\n",
    "\n",
    "#Similarly, axis = 0  can be used to drop rows which have index that corresponds to the value(s) passed in the first parameter\n",
    "\"\"\"\n",
    "Uncomment this to test how axis  = 0 works.\n",
    "\n",
    "x = dataset.drop([0,1,2],axis = 0)\n",
    "x\n",
    "\n",
    "\"\"\"\n",
    "\n",
    "#We now remove all categorical(non-numeric) data types from our predictors. This will be our final predictor DataFrame.\n",
    "x = x.select_dtypes(exclude = ['object'])"
   ]
  },
  {
   "cell_type": "markdown",
   "metadata": {},
   "source": [
    "** Testing accuracy of the three techniques **\n",
    "To test which of the three aforementioned methods would produe the best result, I shall first create a function to measure MAE, following which I shall call this function for each of the above techniques. Unlike testing different models like I did before, I use MAE to test the accuracy for different methods used in handling missing values. The model we use will be the same for all: RandomForestRegressor."
   ]
  },
  {
   "cell_type": "code",
   "execution_count": 285,
   "metadata": {},
   "outputs": [],
   "source": [
    "def get_mae_2(str1,train_x,test_x,train_y,test_y):\n",
    "    model = RandomForestRegressor()\n",
    "    model.fit(train_x,train_y)\n",
    "    my_prediction = model.predict(test_x)\n",
    "    mae = mean_absolute_error(my_prediction,test_y)\n",
    "    fin_str = \"The MAE when we {} is : {}\".format(str1,mae)\n",
    "    return fin_str\n",
    "    \n",
    "\n",
    "#Splitting(and reinitializing) our data again for validation and testing the technique. \n",
    "train_x,test_x,train_y,test_y = train_test_split(x,y,random_state = 0,train_size = 0.75,test_size = 0.25)\n",
    "    "
   ]
  },
  {
   "cell_type": "markdown",
   "metadata": {},
   "source": [
    "**Technique 1: Dropping columns with missing values(not rows)**\n",
    "\n",
    "Take note that since we are dropping entire columns, we do not need to worry about how we might need to change our response variable. As already tested, the response variable is a coulmn with no null values."
   ]
  },
  {
   "cell_type": "code",
   "execution_count": 286,
   "metadata": {},
   "outputs": [
    {
     "data": {
      "text/plain": [
       "'Uncomment to use this method for dropping values. The next cell demonstrates a simpler technique.\\n\\nmissing_cols = [col for col in train_x if train_x[col].isnull().any()]\\nprint(missing_cols)\\n#The above command yields all the columns which have at least one null value(NaN value). Our job is to drop these columns.\\n#We do the dropping for both the fitting data and the validation data.\\n\\ntrain_x = train_x.drop(missing_cols,axis = 1)\\ntest_x = test_x.drop(missing_cols,axis = 1)'"
      ]
     },
     "execution_count": 286,
     "metadata": {},
     "output_type": "execute_result"
    }
   ],
   "source": [
    "\n",
    "'''Uncomment to use this method for dropping values. The next cell demonstrates a simpler technique.\n",
    "\n",
    "missing_cols = [col for col in train_x if train_x[col].isnull().any()]\n",
    "print(missing_cols)\n",
    "#The above command yields all the columns which have at least one null value(NaN value). Our job is to drop these columns.\n",
    "#We do the dropping for both the fitting data and the validation data.\n",
    "\n",
    "train_x = train_x.drop(missing_cols,axis = 1)\n",
    "test_x = test_x.drop(missing_cols,axis = 1)'''\n",
    "\n"
   ]
  },
  {
   "cell_type": "code",
   "execution_count": 287,
   "metadata": {},
   "outputs": [
    {
     "name": "stdout",
     "output_type": "stream",
     "text": [
      "Index(['MSSubClass', 'LotFrontage', 'LotArea', 'OverallQual', 'OverallCond',\n",
      "       'YearBuilt', 'YearRemodAdd', 'MasVnrArea', 'BsmtFinSF1', 'BsmtFinSF2',\n",
      "       'BsmtUnfSF', 'TotalBsmtSF', '1stFlrSF', '2ndFlrSF', 'LowQualFinSF',\n",
      "       'GrLivArea', 'BsmtFullBath', 'BsmtHalfBath', 'FullBath', 'HalfBath',\n",
      "       'BedroomAbvGr', 'KitchenAbvGr', 'TotRmsAbvGrd', 'Fireplaces',\n",
      "       'GarageYrBlt', 'GarageCars', 'GarageArea', 'WoodDeckSF', 'OpenPorchSF',\n",
      "       'EnclosedPorch', '3SsnPorch', 'ScreenPorch', 'PoolArea', 'MiscVal',\n",
      "       'MoSold', 'YrSold'],\n",
      "      dtype='object')\n",
      "Index(['MSSubClass', 'LotArea', 'OverallQual', 'OverallCond', 'YearBuilt',\n",
      "       'YearRemodAdd', 'BsmtFinSF1', 'BsmtFinSF2', 'BsmtUnfSF', 'TotalBsmtSF',\n",
      "       '1stFlrSF', '2ndFlrSF', 'LowQualFinSF', 'GrLivArea', 'BsmtFullBath',\n",
      "       'BsmtHalfBath', 'FullBath', 'HalfBath', 'BedroomAbvGr', 'KitchenAbvGr',\n",
      "       'TotRmsAbvGrd', 'Fireplaces', 'GarageCars', 'GarageArea', 'WoodDeckSF',\n",
      "       'OpenPorchSF', 'EnclosedPorch', '3SsnPorch', 'ScreenPorch', 'PoolArea',\n",
      "       'MiscVal', 'MoSold', 'YrSold'],\n",
      "      dtype='object')\n",
      "Index(['MSSubClass', 'LotFrontage', 'LotArea', 'OverallQual', 'OverallCond',\n",
      "       'YearBuilt', 'YearRemodAdd', 'MasVnrArea', 'BsmtFinSF1', 'BsmtFinSF2',\n",
      "       'BsmtUnfSF', 'TotalBsmtSF', '1stFlrSF', '2ndFlrSF', 'LowQualFinSF',\n",
      "       'GrLivArea', 'BsmtFullBath', 'BsmtHalfBath', 'FullBath', 'HalfBath',\n",
      "       'BedroomAbvGr', 'KitchenAbvGr', 'TotRmsAbvGrd', 'Fireplaces',\n",
      "       'GarageYrBlt', 'GarageCars', 'GarageArea', 'WoodDeckSF', 'OpenPorchSF',\n",
      "       'EnclosedPorch', '3SsnPorch', 'ScreenPorch', 'PoolArea', 'MiscVal',\n",
      "       'MoSold', 'YrSold'],\n",
      "      dtype='object')\n",
      "Index(['MSSubClass', 'LotArea', 'OverallQual', 'OverallCond', 'YearBuilt',\n",
      "       'YearRemodAdd', 'BsmtFinSF1', 'BsmtFinSF2', 'BsmtUnfSF', 'TotalBsmtSF',\n",
      "       '1stFlrSF', '2ndFlrSF', 'LowQualFinSF', 'GrLivArea', 'BsmtFullBath',\n",
      "       'BsmtHalfBath', 'FullBath', 'HalfBath', 'BedroomAbvGr', 'KitchenAbvGr',\n",
      "       'TotRmsAbvGrd', 'Fireplaces', 'GarageCars', 'GarageArea', 'WoodDeckSF',\n",
      "       'OpenPorchSF', 'EnclosedPorch', '3SsnPorch', 'ScreenPorch', 'PoolArea',\n",
      "       'MiscVal', 'MoSold', 'YrSold'],\n",
      "      dtype='object')\n"
     ]
    }
   ],
   "source": [
    "#The above method can be unwieldy. We can do this using the 'how' parameter of dropna function, like so:-\n",
    "\n",
    "print(train_x.keys()) #For demonstration purposes\n",
    "train_x = train_x.dropna(how = 'any',axis = 1) \n",
    "# how = 'any' combined with axis = 1 drops all columns having at least one null value.\n",
    "print(train_x.keys())\n",
    "\n",
    "print(test_x.keys())\n",
    "test_x = test_x.dropna(how = 'any',axis = 1)\n",
    "print(test_x.keys())\n"
   ]
  },
  {
   "cell_type": "markdown",
   "metadata": {},
   "source": [
    "**As we can see, ['LotFrontage', 'MasVnrArea' , 'GarageYrBlt'] have been dropped from both training and validation predictors.**"
   ]
  },
  {
   "cell_type": "code",
   "execution_count": 288,
   "metadata": {},
   "outputs": [],
   "source": [
    "tech1 = get_mae_2('dropped columns with missing values',train_x,test_x,train_y,test_y)"
   ]
  },
  {
   "cell_type": "markdown",
   "metadata": {},
   "source": [
    "**Technique 2: Imputing the columns**\n",
    "\n",
    "The missing values inside the columns are filled with the mean of that column by default. We may also fill these missing values with something else, based on the value of the \"strategy\" parameter of the SimpleImputer function.\n",
    "\n",
    "See: http://scikit-learn.org/stable/modules/generated/sklearn.preprocessing.Imputer.html"
   ]
  },
  {
   "cell_type": "code",
   "execution_count": 289,
   "metadata": {},
   "outputs": [],
   "source": [
    "#Splitting(and reinitializing) our data again for validation and testing the technique. \n",
    "train_x,test_x,train_y,test_y = train_test_split(x,y,random_state = 0,train_size = 0.75,test_size = 0.25)"
   ]
  },
  {
   "cell_type": "code",
   "execution_count": 290,
   "metadata": {},
   "outputs": [],
   "source": [
    "from sklearn.preprocessing import Imputer\n",
    "\n",
    "model_imputer = Imputer()\n",
    "\n",
    "train_x = model_imputer.fit_transform(train_x)\n",
    "test_x = model_imputer.transform(test_x)\n"
   ]
  },
  {
   "cell_type": "markdown",
   "metadata": {},
   "source": [
    "**Why do we use fit_transform for x_train but only transform for x_test?\n",
    "What is even happening here?**\n",
    "\n",
    "Read the second answer [here](https://datascience.stackexchange.com/questions/12321/difference-between-fit-and-fit-transform-in-scikit-learn-models)"
   ]
  },
  {
   "cell_type": "code",
   "execution_count": 291,
   "metadata": {},
   "outputs": [],
   "source": [
    "tech2 = get_mae_2('imputed values based on mean',train_x,test_x,train_y,test_y)"
   ]
  },
  {
   "cell_type": "markdown",
   "metadata": {},
   "source": [
    "**Technique 3: An extension of the imputation model(Tracking what was imputed)**\n",
    "\n",
    "In this technique, there are some additional columns added to our data. Instead of eliminating or just imputing columns with missing values, we add new columns which indicate whether a particular column had a missing value for a particular row. Therefore, the model will have additional knowledge about the values in the columns(whether a particular value is original or was imputed).\n",
    "\n",
    "To better understand this, read the following exampe:-\n",
    "\n",
    "\n",
    "\n",
    "'''new_data[col + '_was_missing'] = new_data[col].isnull()\n",
    "\n",
    "This statement is adding new columns to the dataframe if the original column had any null values. \n",
    "For instance, if this was your original dataframe:- \n",
    "\n",
    "\n",
    "['Col1' 'Col2' 'Col3' 'Col4']\n",
    "\n",
    "[ 12 15 45 35]\n",
    "\n",
    "[ 10 NaN NaN 28] \n",
    "\n",
    "[ 5 15 56 34] \n",
    "\n",
    "[ 3 15 NaN 38] \n",
    "\n",
    "[ 4 15 100 29]\n",
    "\n",
    "\n",
    "Your new data frame would be:\n",
    "\n",
    "['Col1' 'Col2' 'Col3' 'Col4' 'Col2_was_missing' 'Col3_was_missing'] \n",
    "\n",
    "[ 12 15 45 35 false false ] \n",
    "\n",
    "[ 10 NaN NaN 28 true true ] \n",
    "\n",
    "[ 5 15 56 34 false false ] \n",
    "\n",
    "[ 3 15 NaN 38 false true ] \n",
    "\n",
    "[ 4 15 100 29 false false ]\n",
    "\n",
    "New columns were added to the dataframe with boolean values to show if the original column had a null value at that position or not.\n",
    "This is done so that whatever model you use can potentially learn patterns based on whether a value was null or not.'''"
   ]
  },
  {
   "cell_type": "code",
   "execution_count": 292,
   "metadata": {},
   "outputs": [],
   "source": [
    "#Splitting(and reinitializing) our data again for validation and testing the technique. \n",
    "train_x,test_x,train_y,test_y = train_test_split(x,y,random_state = 0,train_size = 0.75,test_size = 0.25)"
   ]
  },
  {
   "cell_type": "code",
   "execution_count": 293,
   "metadata": {},
   "outputs": [
    {
     "name": "stderr",
     "output_type": "stream",
     "text": [
      "C:\\Users\\Varun\\Anaconda3\\lib\\site-packages\\ipykernel_launcher.py:10: SettingWithCopyWarning: \n",
      "A value is trying to be set on a copy of a slice from a DataFrame.\n",
      "Try using .loc[row_indexer,col_indexer] = value instead\n",
      "\n",
      "See the caveats in the documentation: http://pandas.pydata.org/pandas-docs/stable/indexing.html#indexing-view-versus-copy\n",
      "  # Remove the CWD from sys.path while we load stuff.\n",
      "C:\\Users\\Varun\\Anaconda3\\lib\\site-packages\\ipykernel_launcher.py:11: SettingWithCopyWarning: \n",
      "A value is trying to be set on a copy of a slice from a DataFrame.\n",
      "Try using .loc[row_indexer,col_indexer] = value instead\n",
      "\n",
      "See the caveats in the documentation: http://pandas.pydata.org/pandas-docs/stable/indexing.html#indexing-view-versus-copy\n",
      "  # This is added back by InteractiveShellApp.init_path()\n"
     ]
    }
   ],
   "source": [
    "#We use copies of our DataFrame so as to leave our original unaltered.\n",
    "train_x_copy = train_x\n",
    "test_x_copy = test_x\n",
    "\n",
    "#To check which of the columns have missing values\n",
    "cols_with_missing = [col for col in train_x_copy if train_x_copy[col].isnull().any()]\n",
    "\n",
    "#In the next step, we create new attributes with an appendage of 'was missing' to columns which had missing values.\n",
    "for col in cols_with_missing:\n",
    "    train_x_copy[col+'_was_missing'] = train_x_copy[col].isnull()\n",
    "    test_x_copy[col+'_was_missing'] = test_x_copy[col].isnull()"
   ]
  },
  {
   "cell_type": "code",
   "execution_count": 294,
   "metadata": {},
   "outputs": [
    {
     "data": {
      "text/plain": [
       "Index(['MSSubClass', 'LotFrontage', 'LotArea', 'OverallQual', 'OverallCond',\n",
       "       'YearBuilt', 'YearRemodAdd', 'MasVnrArea', 'BsmtFinSF1', 'BsmtFinSF2',\n",
       "       'BsmtUnfSF', 'TotalBsmtSF', '1stFlrSF', '2ndFlrSF', 'LowQualFinSF',\n",
       "       'GrLivArea', 'BsmtFullBath', 'BsmtHalfBath', 'FullBath', 'HalfBath',\n",
       "       'BedroomAbvGr', 'KitchenAbvGr', 'TotRmsAbvGrd', 'Fireplaces',\n",
       "       'GarageYrBlt', 'GarageCars', 'GarageArea', 'WoodDeckSF', 'OpenPorchSF',\n",
       "       'EnclosedPorch', '3SsnPorch', 'ScreenPorch', 'PoolArea', 'MiscVal',\n",
       "       'MoSold', 'YrSold', 'LotFrontage_was_missing', 'MasVnrArea_was_missing',\n",
       "       'GarageYrBlt_was_missing'],\n",
       "      dtype='object')"
      ]
     },
     "execution_count": 294,
     "metadata": {},
     "output_type": "execute_result"
    }
   ],
   "source": [
    "#As we can observe, there are three new attributes appended with a '_was_missing' in our dataframe.\n",
    "train_x_copy.keys()"
   ]
  },
  {
   "cell_type": "markdown",
   "metadata": {},
   "source": [
    "**It is important to notice that although these new attributes contain 'True' and 'False' in their records, their data type is not categorical i.e. non-numeric. They are treated as boolean instead, and therefore our model can be trained using these.**"
   ]
  },
  {
   "cell_type": "code",
   "execution_count": 295,
   "metadata": {},
   "outputs": [
    {
     "data": {
      "text/plain": [
       "1292    False\n",
       "1018     True\n",
       "1213     True\n",
       "1430    False\n",
       "810     False\n",
       "Name: LotFrontage_was_missing, dtype: bool"
      ]
     },
     "execution_count": 295,
     "metadata": {},
     "output_type": "execute_result"
    }
   ],
   "source": [
    "train_x_copy.LotFrontage_was_missing.head()"
   ]
  },
  {
   "cell_type": "code",
   "execution_count": 296,
   "metadata": {},
   "outputs": [],
   "source": [
    "model_new_imputer = Imputer()\n",
    "\n",
    "train_x_copy = model_new_imputer.fit_transform(train_x_copy)\n",
    "test_x_copy = model_new_imputer.transform(test_x_copy)\n"
   ]
  },
  {
   "cell_type": "code",
   "execution_count": 297,
   "metadata": {},
   "outputs": [],
   "source": [
    "tech3 = get_mae_2('imputed the missing values as well as mentioned which values were imputed',train_x_copy,test_x_copy,train_y,test_y)"
   ]
  },
  {
   "cell_type": "markdown",
   "metadata": {},
   "source": [
    "# Let's compare the performances of all three techniques"
   ]
  },
  {
   "cell_type": "code",
   "execution_count": 298,
   "metadata": {},
   "outputs": [
    {
     "name": "stdout",
     "output_type": "stream",
     "text": [
      "The MAE when we dropped columns with missing values is : 19151.61232876712\n",
      "The MAE when we imputed values based on mean is : 18197.656712328764\n",
      "The MAE when we imputed the missing values as well as mentioned which values were imputed is : 18194.247123287674\n"
     ]
    }
   ],
   "source": [
    "print(tech1)\n",
    "print(tech2)\n",
    "print(tech3)"
   ]
  },
  {
   "cell_type": "markdown",
   "metadata": {},
   "source": [
    "# Dealing with categorical variables\n",
    "\n",
    "**So far I have made all my predictions only using numeric data. Let's re-fit the model but this time we include categorical data using a technique known as \"One-hot encoding\"**\n",
    "\n",
    "Additionally, we shall use another dataset for testing purposes instead of splitting our training data. This is done for demonstrating how to align and make consistent potentially heterogenous data sets."
   ]
  },
  {
   "cell_type": "code",
   "execution_count": 299,
   "metadata": {},
   "outputs": [
    {
     "data": {
      "text/plain": [
       "\"Our Response in this case is going to be 'SalePrice'. Since we had evaluated this attribute earlier we know that it does\\nnot possess any missing values. However, I am going to comment a usage of dropna which demonstrates how we can eliminate\\nall the rows for which the response variable has a missing value(For future references and learning).\\n\\ndataset.dropna(axis = 0, subset = ['SalePrice'], inplace = True)\\n\\naxis = 0, as mentioned earlier, is used to perform the operation on rows instead of columns.\\nsubset = [xyz] is used to specify the labels along the axis not in focus(i.e. axis 1 or columns in this case) for which we want \\nto drop the rows.\\ninplace = True allows us to perform dropna on the DataFrame without having to store it in another variable.\\n\\n\""
      ]
     },
     "execution_count": 299,
     "metadata": {},
     "output_type": "execute_result"
    }
   ],
   "source": [
    "\"\"\"Our Response in this case is going to be 'SalePrice'. Since we had evaluated this attribute earlier we know that it does\n",
    "not possess any missing values. However, I am going to comment a usage of dropna which demonstrates how we can eliminate\n",
    "all the rows for which the response variable has a missing value(For future references and learning).\n",
    "\n",
    "dataset.dropna(axis = 0, subset = ['SalePrice'], inplace = True)\n",
    "\n",
    "axis = 0, as mentioned earlier, is used to perform the operation on rows instead of columns.\n",
    "subset = [xyz] is used to specify the labels along the axis not in focus(i.e. axis 1 or columns in this case) for which we want \n",
    "to drop the rows.\n",
    "inplace = True allows us to perform dropna on the DataFrame without having to store it in another variable.\n",
    "\n",
    "\"\"\""
   ]
  },
  {
   "cell_type": "code",
   "execution_count": 300,
   "metadata": {},
   "outputs": [],
   "source": [
    "#We reinitialize x so because we dropped all our categorical attributes in the earlier methods.\n",
    "drop_cols = ['SalePrice','Id']\n",
    "x = dataset.drop(drop_cols,axis = 1)\n",
    "y = dataset.SalePrice"
   ]
  },
  {
   "cell_type": "code",
   "execution_count": 301,
   "metadata": {},
   "outputs": [],
   "source": [
    "#Splitting(and reinitializing) our data again for validation and testing the technique. \n",
    "train_x_cat,test_x_cat,train_y_cat,test_y_cat = train_test_split(x,y,random_state = 0,train_size = 0.75,test_size = 0.25)"
   ]
  },
  {
   "cell_type": "code",
   "execution_count": 302,
   "metadata": {},
   "outputs": [
    {
     "name": "stdout",
     "output_type": "stream",
     "text": [
      "Index(['MSSubClass', 'MSZoning', 'LotFrontage', 'LotArea', 'Street', 'Alley',\n",
      "       'LotShape', 'LandContour', 'Utilities', 'LotConfig', 'LandSlope',\n",
      "       'Neighborhood', 'Condition1', 'Condition2', 'BldgType', 'HouseStyle',\n",
      "       'OverallQual', 'OverallCond', 'YearBuilt', 'YearRemodAdd', 'RoofStyle',\n",
      "       'RoofMatl', 'Exterior1st', 'Exterior2nd', 'MasVnrType', 'MasVnrArea',\n",
      "       'ExterQual', 'ExterCond', 'Foundation', 'BsmtQual', 'BsmtCond',\n",
      "       'BsmtExposure', 'BsmtFinType1', 'BsmtFinSF1', 'BsmtFinType2',\n",
      "       'BsmtFinSF2', 'BsmtUnfSF', 'TotalBsmtSF', 'Heating', 'HeatingQC',\n",
      "       'CentralAir', 'Electrical', '1stFlrSF', '2ndFlrSF', 'LowQualFinSF',\n",
      "       'GrLivArea', 'BsmtFullBath', 'BsmtHalfBath', 'FullBath', 'HalfBath',\n",
      "       'BedroomAbvGr', 'KitchenAbvGr', 'KitchenQual', 'TotRmsAbvGrd',\n",
      "       'Functional', 'Fireplaces', 'FireplaceQu', 'GarageType', 'GarageYrBlt',\n",
      "       'GarageFinish', 'GarageCars', 'GarageArea', 'GarageQual', 'GarageCond',\n",
      "       'PavedDrive', 'WoodDeckSF', 'OpenPorchSF', 'EnclosedPorch', '3SsnPorch',\n",
      "       'ScreenPorch', 'PoolArea', 'PoolQC', 'Fence', 'MiscFeature', 'MiscVal',\n",
      "       'MoSold', 'YrSold', 'SaleType', 'SaleCondition'],\n",
      "      dtype='object')\n",
      "Index(['MSSubClass', 'MSZoning', 'LotFrontage', 'LotArea', 'Street', 'Alley',\n",
      "       'LotShape', 'LandContour', 'Utilities', 'LotConfig', 'LandSlope',\n",
      "       'Neighborhood', 'Condition1', 'Condition2', 'BldgType', 'HouseStyle',\n",
      "       'OverallQual', 'OverallCond', 'YearBuilt', 'YearRemodAdd', 'RoofStyle',\n",
      "       'RoofMatl', 'Exterior1st', 'Exterior2nd', 'MasVnrType', 'MasVnrArea',\n",
      "       'ExterQual', 'ExterCond', 'Foundation', 'BsmtQual', 'BsmtCond',\n",
      "       'BsmtExposure', 'BsmtFinType1', 'BsmtFinSF1', 'BsmtFinType2',\n",
      "       'BsmtFinSF2', 'BsmtUnfSF', 'TotalBsmtSF', 'Heating', 'HeatingQC',\n",
      "       'CentralAir', 'Electrical', '1stFlrSF', '2ndFlrSF', 'LowQualFinSF',\n",
      "       'GrLivArea', 'BsmtFullBath', 'BsmtHalfBath', 'FullBath', 'HalfBath',\n",
      "       'BedroomAbvGr', 'KitchenAbvGr', 'KitchenQual', 'TotRmsAbvGrd',\n",
      "       'Functional', 'Fireplaces', 'FireplaceQu', 'GarageType', 'GarageYrBlt',\n",
      "       'GarageFinish', 'GarageCars', 'GarageArea', 'GarageQual', 'GarageCond',\n",
      "       'PavedDrive', 'WoodDeckSF', 'OpenPorchSF', 'EnclosedPorch', '3SsnPorch',\n",
      "       'ScreenPorch', 'PoolArea', 'PoolQC', 'Fence', 'MiscFeature', 'MiscVal',\n",
      "       'MoSold', 'YrSold', 'SaleType', 'SaleCondition'],\n",
      "      dtype='object')\n",
      "60\n",
      "61\n"
     ]
    }
   ],
   "source": [
    "#It is important to note that we have already dropped the relevant attributes in our 'x' and 'y' variables in an earlier cell.\n",
    "print(train_x_cat.keys())\n",
    "print(test_x_cat.keys())\n",
    "\n",
    "\"\"\"\n",
    "-------- This comment is irrelevant as I am splitting the same training data. The test data set is unused ------------\n",
    "\n",
    "IMPORTANt: We cannot use dropna combined with its how parameter to drop the values here. Why?\n",
    "Because the test dataset has some additional columns for which values are missing as compared to the training dataset.\n",
    "To deal with this we simply drop the columns for which values are missing IN THE TRAINING DATASET ONLY\n",
    "\n",
    "-------------------------------------------------------------------------------------------------------------------------\n",
    "\n",
    "\"\"\"\n",
    "#One-hot encoding can also be done by imputing missing values. But for demonstration purposes I am simply going to drop them.\n",
    "\n",
    "train_x_cat = train_x_cat.dropna(how = 'any',axis = 1)\n",
    "test_x_cat = test_x_cat.dropna(how = 'any',axis = 1)\n",
    "\n",
    "\n",
    "#----------------Alternate method ------------------------------------\n",
    "'''missing_cols = [col for col in train_x_cat if train_x_cat[col].isnull().any()]\n",
    "train_x_cat = train_x_cat.drop(missing_cols,axis = 1)\n",
    "test_x_cat = test_x_cat.drop(missing_cols,axis = 1)'''\n",
    "\n",
    "\n",
    "#If no problem arised, x_test will have the same number of columns as x_train.\n",
    "print(len(train_x_cat.columns))\n",
    "print(len(test_x_cat.columns))\n"
   ]
  },
  {
   "cell_type": "markdown",
   "metadata": {},
   "source": [
    "**In the next step I am going to evaluate what is known as the \"cadinality\" of categorical datatypes. We do not want to select columns whose cardinality exceeds 10 as it is generally unadvisable(as far as I've read).**\n"
   ]
  },
  {
   "cell_type": "code",
   "execution_count": 303,
   "metadata": {},
   "outputs": [
    {
     "name": "stdout",
     "output_type": "stream",
     "text": [
      "        MSSubClass        LotArea  OverallQual  OverallCond    YearBuilt  \\\n",
      "count  1095.000000    1095.000000  1095.000000  1095.000000  1095.000000   \n",
      "mean     56.602740   10554.273973     6.071233     5.568037  1971.006393   \n",
      "std      42.201335   10059.063819     1.363015     1.115243    30.205435   \n",
      "min      20.000000    1300.000000     1.000000     1.000000  1872.000000   \n",
      "25%      20.000000    7734.000000     5.000000     5.000000  1954.000000   \n",
      "50%      50.000000    9531.000000     6.000000     5.000000  1972.000000   \n",
      "75%      70.000000   11592.000000     7.000000     6.000000  2000.000000   \n",
      "max     190.000000  215245.000000    10.000000     9.000000  2010.000000   \n",
      "\n",
      "       YearRemodAdd   BsmtFinSF1   BsmtFinSF2    BsmtUnfSF  TotalBsmtSF  \\\n",
      "count   1095.000000  1095.000000  1095.000000  1095.000000  1095.000000   \n",
      "mean    1984.691324   441.032877    46.755251   568.046575  1055.834703   \n",
      "std       20.577087   434.599451   159.035847   436.415982   411.084317   \n",
      "min     1950.000000     0.000000     0.000000     0.000000     0.000000   \n",
      "25%     1966.500000     0.000000     0.000000   230.000000   801.000000   \n",
      "50%     1993.000000   381.000000     0.000000   485.000000   992.000000   \n",
      "75%     2003.000000   716.000000     0.000000   812.500000  1270.000000   \n",
      "max     2010.000000  2260.000000  1120.000000  2153.000000  3206.000000   \n",
      "\n",
      "          ...        GarageArea   WoodDeckSF  OpenPorchSF  EnclosedPorch  \\\n",
      "count     ...       1095.000000  1095.000000  1095.000000    1095.000000   \n",
      "mean      ...        472.040183    94.291324    47.482192      22.550685   \n",
      "std       ...        210.456399   127.262142    67.845126      62.704838   \n",
      "min       ...          0.000000     0.000000     0.000000       0.000000   \n",
      "25%       ...        336.000000     0.000000     0.000000       0.000000   \n",
      "50%       ...        478.000000     0.000000    24.000000       0.000000   \n",
      "75%       ...        576.000000   168.000000    67.500000       0.000000   \n",
      "max       ...       1390.000000   736.000000   547.000000     552.000000   \n",
      "\n",
      "         3SsnPorch  ScreenPorch     PoolArea       MiscVal       MoSold  \\\n",
      "count  1095.000000  1095.000000  1095.000000   1095.000000  1095.000000   \n",
      "mean      3.104110    14.985388     2.259361     53.510502     6.273059   \n",
      "std      27.769621    54.857300    37.675589    568.032720     2.721261   \n",
      "min       0.000000     0.000000     0.000000      0.000000     1.000000   \n",
      "25%       0.000000     0.000000     0.000000      0.000000     4.000000   \n",
      "50%       0.000000     0.000000     0.000000      0.000000     6.000000   \n",
      "75%       0.000000     0.000000     0.000000      0.000000     8.000000   \n",
      "max     508.000000   480.000000   738.000000  15500.000000    12.000000   \n",
      "\n",
      "            YrSold  \n",
      "count  1095.000000  \n",
      "mean   2007.829224  \n",
      "std       1.339549  \n",
      "min    2006.000000  \n",
      "25%    2007.000000  \n",
      "50%    2008.000000  \n",
      "75%    2009.000000  \n",
      "max    2010.000000  \n",
      "\n",
      "[8 rows x 33 columns]\n",
      "       MSSubClass        LotArea  OverallQual  OverallCond    YearBuilt  \\\n",
      "count  365.000000     365.000000   365.000000    365.00000   365.000000   \n",
      "mean    57.780822   10404.490411     6.183562      5.59726  1972.052055   \n",
      "std     42.642858    9756.872531     1.439915      1.10667    30.223163   \n",
      "min     20.000000    1477.000000     3.000000      3.00000  1882.000000   \n",
      "25%     20.000000    7200.000000     5.000000      5.00000  1954.000000   \n",
      "50%     50.000000    9187.000000     6.000000      5.00000  1974.000000   \n",
      "75%     75.000000   11664.000000     7.000000      6.00000  2001.000000   \n",
      "max    190.000000  159000.000000    10.000000      9.00000  2009.000000   \n",
      "\n",
      "       YearRemodAdd   BsmtFinSF1   BsmtFinSF2    BsmtUnfSF  TotalBsmtSF  \\\n",
      "count    365.000000   365.000000   365.000000   365.000000   365.000000   \n",
      "mean    1985.389041   451.460274    45.931507   564.821918  1062.213699   \n",
      "std       20.868687   515.816601   168.206516   458.436226   513.327973   \n",
      "min     1950.000000     0.000000     0.000000     0.000000     0.000000   \n",
      "25%     1968.000000     0.000000     0.000000   212.000000   780.000000   \n",
      "50%     1995.000000   384.000000     0.000000   461.000000   988.000000   \n",
      "75%     2004.000000   700.000000     0.000000   792.000000  1352.000000   \n",
      "max     2009.000000  5644.000000  1474.000000  2336.000000  6110.000000   \n",
      "\n",
      "          ...        GarageArea  WoodDeckSF  OpenPorchSF  EnclosedPorch  \\\n",
      "count     ...        365.000000  365.000000   365.000000     365.000000   \n",
      "mean      ...        475.800000   94.104110    44.194521      20.164384   \n",
      "std       ...        223.823839  119.552325    61.264361      56.137443   \n",
      "min       ...          0.000000    0.000000     0.000000       0.000000   \n",
      "25%       ...        326.000000    0.000000     0.000000       0.000000   \n",
      "50%       ...        480.000000   36.000000    25.000000       0.000000   \n",
      "75%       ...        576.000000  168.000000    70.000000       0.000000   \n",
      "max       ...       1418.000000  857.000000   502.000000     264.000000   \n",
      "\n",
      "        3SsnPorch  ScreenPorch    PoolArea      MiscVal      MoSold  \\\n",
      "count  365.000000   365.000000  365.000000   365.000000  365.000000   \n",
      "mean     4.326027    15.287671    4.257534    13.424658    6.468493   \n",
      "std     33.560271    58.451746   46.914986   124.963942    2.648288   \n",
      "min      0.000000     0.000000    0.000000     0.000000    1.000000   \n",
      "25%      0.000000     0.000000    0.000000     0.000000    5.000000   \n",
      "50%      0.000000     0.000000    0.000000     0.000000    6.000000   \n",
      "75%      0.000000     0.000000    0.000000     0.000000    8.000000   \n",
      "max    407.000000   440.000000  555.000000  2000.000000   12.000000   \n",
      "\n",
      "            YrSold  \n",
      "count   365.000000  \n",
      "mean   2007.775342  \n",
      "std       1.294089  \n",
      "min    2006.000000  \n",
      "25%    2007.000000  \n",
      "50%    2008.000000  \n",
      "75%    2009.000000  \n",
      "max    2010.000000  \n",
      "\n",
      "[8 rows x 33 columns]\n"
     ]
    }
   ],
   "source": [
    "req_categ_cols = [col for col in train_x_cat if train_x_cat[col].dtype == 'object' and train_x_cat[col].nunique() < 10]\n",
    "#The nunique() function calculates the number of unique values in the attribute whereas dtype returns the data type of the attribute.\n",
    "\n",
    "req_numer_cols = [col for col in train_x_cat if train_x_cat[col].dtype in ['int64','float64']]\n",
    "\n",
    "tot_cols = req_categ_cols + req_numer_cols\n",
    "\n",
    "#To eliminate categorical columns with cardinality greater than 10\n",
    "train_x_cat = train_x_cat[tot_cols]\n",
    "print(train_x_cat.describe())\n",
    "test_x_cat = test_x_cat[tot_cols]\n",
    "print(test_x_cat.describe())\n"
   ]
  },
  {
   "cell_type": "markdown",
   "metadata": {},
   "source": [
    "**We use a method known as get_dummies in the pandas library to one-hot encode the categorical attributes in our dataset**"
   ]
  },
  {
   "cell_type": "code",
   "execution_count": 304,
   "metadata": {},
   "outputs": [
    {
     "name": "stdout",
     "output_type": "stream",
     "text": [
      "        MSSubClass        LotArea  OverallQual  OverallCond    YearBuilt  \\\n",
      "count  1095.000000    1095.000000  1095.000000  1095.000000  1095.000000   \n",
      "mean     56.602740   10554.273973     6.071233     5.568037  1971.006393   \n",
      "std      42.201335   10059.063819     1.363015     1.115243    30.205435   \n",
      "min      20.000000    1300.000000     1.000000     1.000000  1872.000000   \n",
      "25%      20.000000    7734.000000     5.000000     5.000000  1954.000000   \n",
      "50%      50.000000    9531.000000     6.000000     5.000000  1972.000000   \n",
      "75%      70.000000   11592.000000     7.000000     6.000000  2000.000000   \n",
      "max     190.000000  215245.000000    10.000000     9.000000  2010.000000   \n",
      "\n",
      "       YearRemodAdd   BsmtFinSF1   BsmtFinSF2    BsmtUnfSF  TotalBsmtSF  \\\n",
      "count   1095.000000  1095.000000  1095.000000  1095.000000  1095.000000   \n",
      "mean    1984.691324   441.032877    46.755251   568.046575  1055.834703   \n",
      "std       20.577087   434.599451   159.035847   436.415982   411.084317   \n",
      "min     1950.000000     0.000000     0.000000     0.000000     0.000000   \n",
      "25%     1966.500000     0.000000     0.000000   230.000000   801.000000   \n",
      "50%     1993.000000   381.000000     0.000000   485.000000   992.000000   \n",
      "75%     2003.000000   716.000000     0.000000   812.500000  1270.000000   \n",
      "max     2010.000000  2260.000000  1120.000000  2153.000000  3206.000000   \n",
      "\n",
      "               ...            SaleType_ConLw  SaleType_New  SaleType_Oth  \\\n",
      "count          ...               1095.000000   1095.000000   1095.000000   \n",
      "mean           ...                  0.004566      0.082192      0.001826   \n",
      "std            ...                  0.067450      0.274782      0.042718   \n",
      "min            ...                  0.000000      0.000000      0.000000   \n",
      "25%            ...                  0.000000      0.000000      0.000000   \n",
      "50%            ...                  0.000000      0.000000      0.000000   \n",
      "75%            ...                  0.000000      0.000000      0.000000   \n",
      "max            ...                  1.000000      1.000000      1.000000   \n",
      "\n",
      "       SaleType_WD  SaleCondition_Abnorml  SaleCondition_AdjLand  \\\n",
      "count  1095.000000            1095.000000            1095.000000   \n",
      "mean      0.873059               0.067580               0.002740   \n",
      "std       0.333059               0.251138               0.052295   \n",
      "min       0.000000               0.000000               0.000000   \n",
      "25%       1.000000               0.000000               0.000000   \n",
      "50%       1.000000               0.000000               0.000000   \n",
      "75%       1.000000               0.000000               0.000000   \n",
      "max       1.000000               1.000000               1.000000   \n",
      "\n",
      "       SaleCondition_Alloca  SaleCondition_Family  SaleCondition_Normal  \\\n",
      "count           1095.000000           1095.000000           1095.000000   \n",
      "mean               0.006393              0.010046              0.829224   \n",
      "std                0.079735              0.099769              0.376485   \n",
      "min                0.000000              0.000000              0.000000   \n",
      "25%                0.000000              0.000000              1.000000   \n",
      "50%                0.000000              0.000000              1.000000   \n",
      "75%                0.000000              0.000000              1.000000   \n",
      "max                1.000000              1.000000              1.000000   \n",
      "\n",
      "       SaleCondition_Partial  \n",
      "count            1095.000000  \n",
      "mean                0.084018  \n",
      "std                 0.277542  \n",
      "min                 0.000000  \n",
      "25%                 0.000000  \n",
      "50%                 0.000000  \n",
      "75%                 0.000000  \n",
      "max                 1.000000  \n",
      "\n",
      "[8 rows x 154 columns]\n"
     ]
    },
    {
     "data": {
      "text/plain": [
       "MSSubClass               int64\n",
       "LotArea                  int64\n",
       "OverallQual              int64\n",
       "OverallCond              int64\n",
       "YearBuilt                int64\n",
       "YearRemodAdd             int64\n",
       "BsmtFinSF1               int64\n",
       "BsmtFinSF2               int64\n",
       "BsmtUnfSF                int64\n",
       "TotalBsmtSF              int64\n",
       "1stFlrSF                 int64\n",
       "2ndFlrSF                 int64\n",
       "LowQualFinSF             int64\n",
       "GrLivArea                int64\n",
       "BsmtFullBath             int64\n",
       "BsmtHalfBath             int64\n",
       "FullBath                 int64\n",
       "HalfBath                 int64\n",
       "BedroomAbvGr             int64\n",
       "KitchenAbvGr             int64\n",
       "TotRmsAbvGrd             int64\n",
       "Fireplaces               int64\n",
       "GarageCars               int64\n",
       "GarageArea               int64\n",
       "WoodDeckSF               int64\n",
       "OpenPorchSF              int64\n",
       "EnclosedPorch            int64\n",
       "3SsnPorch                int64\n",
       "ScreenPorch              int64\n",
       "PoolArea                 int64\n",
       "                         ...  \n",
       "CentralAir_N             uint8\n",
       "CentralAir_Y             uint8\n",
       "KitchenQual_Ex           uint8\n",
       "KitchenQual_Fa           uint8\n",
       "KitchenQual_Gd           uint8\n",
       "KitchenQual_TA           uint8\n",
       "Functional_Maj1          uint8\n",
       "Functional_Maj2          uint8\n",
       "Functional_Min1          uint8\n",
       "Functional_Min2          uint8\n",
       "Functional_Mod           uint8\n",
       "Functional_Typ           uint8\n",
       "PavedDrive_N             uint8\n",
       "PavedDrive_P             uint8\n",
       "PavedDrive_Y             uint8\n",
       "SaleType_COD             uint8\n",
       "SaleType_CWD             uint8\n",
       "SaleType_Con             uint8\n",
       "SaleType_ConLD           uint8\n",
       "SaleType_ConLI           uint8\n",
       "SaleType_ConLw           uint8\n",
       "SaleType_New             uint8\n",
       "SaleType_Oth             uint8\n",
       "SaleType_WD              uint8\n",
       "SaleCondition_Abnorml    uint8\n",
       "SaleCondition_AdjLand    uint8\n",
       "SaleCondition_Alloca     uint8\n",
       "SaleCondition_Family     uint8\n",
       "SaleCondition_Normal     uint8\n",
       "SaleCondition_Partial    uint8\n",
       "Length: 154, dtype: object"
      ]
     },
     "execution_count": 304,
     "metadata": {},
     "output_type": "execute_result"
    }
   ],
   "source": [
    "train_x_cat = pd.get_dummies(train_x_cat)\n",
    "print(train_x_cat.describe())\n",
    "train_x_cat.dtypes #As we can see, myriad new columns have been added to indicate encoding. I do the same for the validation data"
   ]
  },
  {
   "cell_type": "code",
   "execution_count": 305,
   "metadata": {},
   "outputs": [
    {
     "name": "stdout",
     "output_type": "stream",
     "text": [
      "       MSSubClass        LotArea  OverallQual  OverallCond    YearBuilt  \\\n",
      "count  365.000000     365.000000   365.000000    365.00000   365.000000   \n",
      "mean    57.780822   10404.490411     6.183562      5.59726  1972.052055   \n",
      "std     42.642858    9756.872531     1.439915      1.10667    30.223163   \n",
      "min     20.000000    1477.000000     3.000000      3.00000  1882.000000   \n",
      "25%     20.000000    7200.000000     5.000000      5.00000  1954.000000   \n",
      "50%     50.000000    9187.000000     6.000000      5.00000  1974.000000   \n",
      "75%     75.000000   11664.000000     7.000000      6.00000  2001.000000   \n",
      "max    190.000000  159000.000000    10.000000      9.00000  2009.000000   \n",
      "\n",
      "       YearRemodAdd   BsmtFinSF1   BsmtFinSF2    BsmtUnfSF  TotalBsmtSF  \\\n",
      "count    365.000000   365.000000   365.000000   365.000000   365.000000   \n",
      "mean    1985.389041   451.460274    45.931507   564.821918  1062.213699   \n",
      "std       20.868687   515.816601   168.206516   458.436226   513.327973   \n",
      "min     1950.000000     0.000000     0.000000     0.000000     0.000000   \n",
      "25%     1968.000000     0.000000     0.000000   212.000000   780.000000   \n",
      "50%     1995.000000   384.000000     0.000000   461.000000   988.000000   \n",
      "75%     2004.000000   700.000000     0.000000   792.000000  1352.000000   \n",
      "max     2009.000000  5644.000000  1474.000000  2336.000000  6110.000000   \n",
      "\n",
      "               ...            SaleType_ConLI  SaleType_New  SaleType_Oth  \\\n",
      "count          ...                365.000000    365.000000    365.000000   \n",
      "mean           ...                  0.002740      0.087671      0.002740   \n",
      "std            ...                  0.052342      0.283204      0.052342   \n",
      "min            ...                  0.000000      0.000000      0.000000   \n",
      "25%            ...                  0.000000      0.000000      0.000000   \n",
      "50%            ...                  0.000000      0.000000      0.000000   \n",
      "75%            ...                  0.000000      0.000000      0.000000   \n",
      "max            ...                  1.000000      1.000000      1.000000   \n",
      "\n",
      "       SaleType_WD  SaleCondition_Abnorml  SaleCondition_AdjLand  \\\n",
      "count   365.000000             365.000000             365.000000   \n",
      "mean      0.852055               0.073973               0.002740   \n",
      "std       0.355533               0.262086               0.052342   \n",
      "min       0.000000               0.000000               0.000000   \n",
      "25%       1.000000               0.000000               0.000000   \n",
      "50%       1.000000               0.000000               0.000000   \n",
      "75%       1.000000               0.000000               0.000000   \n",
      "max       1.000000               1.000000               1.000000   \n",
      "\n",
      "       SaleCondition_Alloca  SaleCondition_Family  SaleCondition_Normal  \\\n",
      "count            365.000000            365.000000            365.000000   \n",
      "mean               0.013699              0.024658              0.794521   \n",
      "std                0.116396              0.155292              0.404606   \n",
      "min                0.000000              0.000000              0.000000   \n",
      "25%                0.000000              0.000000              1.000000   \n",
      "50%                0.000000              0.000000              1.000000   \n",
      "75%                0.000000              0.000000              1.000000   \n",
      "max                1.000000              1.000000              1.000000   \n",
      "\n",
      "       SaleCondition_Partial  \n",
      "count             365.000000  \n",
      "mean                0.090411  \n",
      "std                 0.287163  \n",
      "min                 0.000000  \n",
      "25%                 0.000000  \n",
      "50%                 0.000000  \n",
      "75%                 0.000000  \n",
      "max                 1.000000  \n",
      "\n",
      "[8 rows x 145 columns]\n"
     ]
    },
    {
     "data": {
      "text/plain": [
       "MSSubClass               int64\n",
       "LotArea                  int64\n",
       "OverallQual              int64\n",
       "OverallCond              int64\n",
       "YearBuilt                int64\n",
       "YearRemodAdd             int64\n",
       "BsmtFinSF1               int64\n",
       "BsmtFinSF2               int64\n",
       "BsmtUnfSF                int64\n",
       "TotalBsmtSF              int64\n",
       "1stFlrSF                 int64\n",
       "2ndFlrSF                 int64\n",
       "LowQualFinSF             int64\n",
       "GrLivArea                int64\n",
       "BsmtFullBath             int64\n",
       "BsmtHalfBath             int64\n",
       "FullBath                 int64\n",
       "HalfBath                 int64\n",
       "BedroomAbvGr             int64\n",
       "KitchenAbvGr             int64\n",
       "TotRmsAbvGrd             int64\n",
       "Fireplaces               int64\n",
       "GarageCars               int64\n",
       "GarageArea               int64\n",
       "WoodDeckSF               int64\n",
       "OpenPorchSF              int64\n",
       "EnclosedPorch            int64\n",
       "3SsnPorch                int64\n",
       "ScreenPorch              int64\n",
       "PoolArea                 int64\n",
       "                         ...  \n",
       "CentralAir_N             uint8\n",
       "CentralAir_Y             uint8\n",
       "KitchenQual_Ex           uint8\n",
       "KitchenQual_Fa           uint8\n",
       "KitchenQual_Gd           uint8\n",
       "KitchenQual_TA           uint8\n",
       "Functional_Maj1          uint8\n",
       "Functional_Maj2          uint8\n",
       "Functional_Min1          uint8\n",
       "Functional_Min2          uint8\n",
       "Functional_Mod           uint8\n",
       "Functional_Sev           uint8\n",
       "Functional_Typ           uint8\n",
       "PavedDrive_N             uint8\n",
       "PavedDrive_P             uint8\n",
       "PavedDrive_Y             uint8\n",
       "SaleType_COD             uint8\n",
       "SaleType_CWD             uint8\n",
       "SaleType_Con             uint8\n",
       "SaleType_ConLD           uint8\n",
       "SaleType_ConLI           uint8\n",
       "SaleType_New             uint8\n",
       "SaleType_Oth             uint8\n",
       "SaleType_WD              uint8\n",
       "SaleCondition_Abnorml    uint8\n",
       "SaleCondition_AdjLand    uint8\n",
       "SaleCondition_Alloca     uint8\n",
       "SaleCondition_Family     uint8\n",
       "SaleCondition_Normal     uint8\n",
       "SaleCondition_Partial    uint8\n",
       "Length: 145, dtype: object"
      ]
     },
     "execution_count": 305,
     "metadata": {},
     "output_type": "execute_result"
    }
   ],
   "source": [
    "test_x_cat = pd.get_dummies(test_x_cat)\n",
    "print(test_x_cat.describe())\n",
    "test_x_cat.dtypes"
   ]
  },
  {
   "cell_type": "markdown",
   "metadata": {},
   "source": [
    "**As we can see, the number of columns in the training data and the test data are different. This misalignment arises if there are different number of categorical values in the training and test data. To fix this we use the align function and perform the equivalent of a left join in sql**"
   ]
  },
  {
   "cell_type": "code",
   "execution_count": 306,
   "metadata": {},
   "outputs": [],
   "source": [
    "train_x_cat, test_x_cat = train_x_cat.align(test_x_cat,join = 'left',axis = 1, fill_value = 0)\n",
    "#IMPORTANT: The fill_value parameter makes sure that after we perform SQL left join on the two DataFrames, instead of \n",
    "#storing missing values in the test segment as 'NaN' we store it as 0.\n"
   ]
  },
  {
   "cell_type": "markdown",
   "metadata": {},
   "source": [
    "**Success! Both our training and validation data are now encoded and ready for fitting and prediction**"
   ]
  },
  {
   "cell_type": "code",
   "execution_count": 307,
   "metadata": {},
   "outputs": [
    {
     "data": {
      "text/plain": [
       "'The MAE when we include categorical variables is : 19021.393698630134'"
      ]
     },
     "execution_count": 307,
     "metadata": {},
     "output_type": "execute_result"
    }
   ],
   "source": [
    "get_mae_2('include categorical variables',train_x_cat,test_x_cat,train_y_cat,test_y_cat)"
   ]
  },
  {
   "cell_type": "code",
   "execution_count": null,
   "metadata": {},
   "outputs": [],
   "source": []
  }
 ],
 "metadata": {
  "kernelspec": {
   "display_name": "Python 3",
   "language": "python",
   "name": "python3"
  },
  "language_info": {
   "codemirror_mode": {
    "name": "ipython",
    "version": 3
   },
   "file_extension": ".py",
   "mimetype": "text/x-python",
   "name": "python",
   "nbconvert_exporter": "python",
   "pygments_lexer": "ipython3",
   "version": "3.6.4"
  }
 },
 "nbformat": 4,
 "nbformat_minor": 2
}
